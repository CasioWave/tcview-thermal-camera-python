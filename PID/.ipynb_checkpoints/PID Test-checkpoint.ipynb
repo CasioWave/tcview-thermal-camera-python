{
 "cells": [
  {
   "cell_type": "code",
   "execution_count": null,
   "id": "5b35e146-b2d0-4bc7-883b-a1968298a143",
   "metadata": {},
   "outputs": [],
   "source": [
    "import pyvisa\n",
    "rm = pyvisa.ResourceManager()\n",
    "rm.list_resources()\n",
    "inst = rm.open_resource('GPIB0::24::INSTR')\n",
    "#print(inst.query(\"*IDN?\"))\n",
    "#P=inst.query(\"Out2.Value?\")\n",
    "c = ''\n",
    "while c!='q':\n",
    "    inst.write(c)\n",
    "    c = input('Enter the command -> ')"
   ]
  }
 ],
 "metadata": {
  "kernelspec": {
   "display_name": "Python 3 (ipykernel)",
   "language": "python",
   "name": "python3"
  },
  "language_info": {
   "codemirror_mode": {
    "name": "ipython",
    "version": 3
   },
   "file_extension": ".py",
   "mimetype": "text/x-python",
   "name": "python",
   "nbconvert_exporter": "python",
   "pygments_lexer": "ipython3",
   "version": "3.11.6"
  }
 },
 "nbformat": 4,
 "nbformat_minor": 5
}
